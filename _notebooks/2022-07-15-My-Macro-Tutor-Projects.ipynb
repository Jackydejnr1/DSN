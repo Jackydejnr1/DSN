{
 "cells": [
  {
   "cell_type": "markdown",
   "id": "df90ed33",
   "metadata": {},
   "source": [
    "# Project 1: Create Word Acronyms"
   ]
  },
  {
   "cell_type": "markdown",
   "id": "883b327c",
   "metadata": {},
   "source": [
    "In this project, I build a word acronyms generator using python. What is an Acronym by the way? Well, an Acronym is defined as an abbreviation formed from the initial letters of other words and pronounced as a word (e.g. ASCII, NASA, etc). So basically to create a word acronym will mean to take a String as an input and return the initials of all the words in the String."
   ]
  },
  {
   "cell_type": "markdown",
   "id": "ab19c9e9",
   "metadata": {},
   "source": [
    "# Let's Begin"
   ]
  },
  {
   "cell_type": "markdown",
   "id": "658bff87",
   "metadata": {},
   "source": [
    "To begin, we'll need a string as input from the user. We obtain this by using the input() method "
   ]
  },
  {
   "cell_type": "code",
   "execution_count": null,
   "id": "e755da83",
   "metadata": {},
   "outputs": [],
   "source": [
    "phrase = input(\"Enter a phrase: \")"
   ]
  },
  {
   "cell_type": "markdown",
   "id": "4396f2ee",
   "metadata": {},
   "source": [
    "We have stored the user's input in a phrase variable. Often times, the word 'of' is not considered when generating Acronyms, hence, we must ignore words like 'of' from the user input. The replace() method comes in handy here. Also, we need to separate each word and store it individually in the form of a list so that we can easily iterate or loop through it. To achieve this, we use the split() method as follows:"
   ]
  },
  {
   "cell_type": "code",
   "execution_count": null,
   "id": "133b05a4",
   "metadata": {},
   "outputs": [],
   "source": [
    "prepare  = (phrase.replace('of', '')).split()"
   ]
  },
  {
   "cell_type": "markdown",
   "id": "5a6a75d1",
   "metadata": {},
   "source": [
    "Here in phrase.replace('of', '') we are using .replace() function to ignore 'of' from the input, if any.\n",
    "\n",
    "And then we are using .split() function to break down the string into individual words and store them as a list in phrase variable.\n",
    "\n",
    "Next, we need an empty string variable to store our acronym. "
   ]
  },
  {
   "cell_type": "code",
   "execution_count": null,
   "id": "e2313f4d",
   "metadata": {},
   "outputs": [],
   "source": [
    "empty_acronym = \"\""
   ]
  },
  {
   "cell_type": "markdown",
   "id": "8c721e2f",
   "metadata": {},
   "source": [
    "Now let's create a for loop which will iterate through prepare variable."
   ]
  },
  {
   "cell_type": "code",
   "execution_count": null,
   "id": "edba0924",
   "metadata": {},
   "outputs": [],
   "source": [
    "for word in prepare:\n",
    "    empty_acronym = empty_acronym + word[0].upper()"
   ]
  },
  {
   "cell_type": "markdown",
   "id": "568d1ffa",
   "metadata": {},
   "source": [
    "Here in empty_acronym = empty_acronym + word[0], we are slicing off the first letter of words stored in prepare using slicing operator and adding it to our empty_acronym variable.\n",
    "\n",
    "We are also using .upper() function to capitalize the acronyms.\n",
    "\n",
    "Finally, we simply add a print statement which will print out the acronym as output."
   ]
  },
  {
   "cell_type": "code",
   "execution_count": null,
   "id": "25ec1dd4",
   "metadata": {},
   "outputs": [],
   "source": [
    "print(f'The Acronym of {phrase} is {empty_acronym}')"
   ]
  },
  {
   "cell_type": "markdown",
   "id": "37ab7f91",
   "metadata": {},
   "source": [
    "# Testing the Code\n",
    "Lets go ahead and test our code"
   ]
  },
  {
   "cell_type": "code",
   "execution_count": 3,
   "id": "720b9dbf",
   "metadata": {},
   "outputs": [
    {
     "name": "stdout",
     "output_type": "stream",
     "text": [
      "Enter a phrase: People's Democratic Party\n",
      "The Acronym of People's Democratic Party is PDP\n"
     ]
    }
   ],
   "source": [
    "phrase = input(\"Enter a phrase: \")\n",
    "prepare  = (phrase.replace('of', '')).split()\n",
    "empty_acronym = \"\"\n",
    "for word in prepare:\n",
    "    empty_acronym = empty_acronym + word[0].upper()\n",
    "print(f'The Acronym of {phrase} is {empty_acronym}')"
   ]
  },
  {
   "cell_type": "markdown",
   "id": "8c834841",
   "metadata": {},
   "source": [
    "# Project 2: Building a Temperature converter from Fahrenheit to Celsius"
   ]
  },
  {
   "cell_type": "markdown",
   "id": "f4348a84",
   "metadata": {},
   "source": [
    "Temperature as we know, is the degree of hotness or coldness of a body. It helps us to know how hot or cold a 'body' is. Generally to measure the temperature we make use of one of these two popular units i.e. Fahrenheit & Celsius.\n",
    "\n",
    "Sadly, most people find converting one into another to be usually boring. However, Python can be used to automate this boring task for humans. \n",
    "\n",
    "Today I will be building a simple & short project which will convert temperature in Fahrenheits to Celsius for us in seconds.\n"
   ]
  },
  {
   "cell_type": "markdown",
   "id": "c0f77060",
   "metadata": {},
   "source": [
    "# Let's Get our hands dirty with codes\n",
    "So the first thing we are going to do is to ask the user for the temperature in Fahrenheit so we can convert it into the Celsius.\n"
   ]
  },
  {
   "cell_type": "code",
   "execution_count": null,
   "id": "ec29855d",
   "metadata": {},
   "outputs": [],
   "source": [
    "temp = float(input(\"Enter temperature in Fahrenheit: \"))\n",
    "#We will convert the temperature into float using float() so that we can perform calculations on it.\n"
   ]
  },
  {
   "cell_type": "markdown",
   "id": "114bc923",
   "metadata": {},
   "source": [
    "Now finally let's perform calculation and convert the temperature into Celsius."
   ]
  },
  {
   "cell_type": "code",
   "execution_count": null,
   "id": "ab3c72df",
   "metadata": {},
   "outputs": [],
   "source": [
    "celsius = round((temp - 32) * 5/9, 4)"
   ]
  },
  {
   "cell_type": "markdown",
   "id": "381cf92e",
   "metadata": {},
   "source": [
    "This expression you see above is the general formula to convert Fahrenheit into Celsius.\n",
    "\n",
    "Now finally let's print our temperature in Celsius:"
   ]
  },
  {
   "cell_type": "code",
   "execution_count": null,
   "id": "6b6efae0",
   "metadata": {},
   "outputs": [],
   "source": [
    "print(f\"{temp} in Fahrenheit is equal to {celsius} in Celsius\")"
   ]
  },
  {
   "cell_type": "markdown",
   "id": "7ce31e4e",
   "metadata": {},
   "source": [
    "Here we go we are done! Here we have used f-strings to directly place the variable within the print statement."
   ]
  },
  {
   "cell_type": "markdown",
   "id": "38c216f0",
   "metadata": {},
   "source": [
    "# Testing the Code\n",
    "Lets go ahead and test our code"
   ]
  },
  {
   "cell_type": "code",
   "execution_count": 4,
   "id": "7a8fa7f0",
   "metadata": {},
   "outputs": [
    {
     "name": "stdout",
     "output_type": "stream",
     "text": [
      "Enter temperature in Fahrenheit: 231\n",
      "231.0 in Fahrenheit is equal to 111 in Celsius\n"
     ]
    }
   ],
   "source": [
    "temp = float(input(\"Enter temperature in Fahrenheit: \"))\n",
    "celsius = round((temp - 32) * 5/9)\n",
    "print(f\"{temp} in Fahrenheit is equal to {celsius} in Celsius\")"
   ]
  },
  {
   "cell_type": "code",
   "execution_count": null,
   "id": "9f60c26f",
   "metadata": {},
   "outputs": [],
   "source": []
  }
 ],
 "metadata": {
  "kernelspec": {
   "display_name": "Python 3 (ipykernel)",
   "language": "python",
   "name": "python3"
  },
  "language_info": {
   "codemirror_mode": {
    "name": "ipython",
    "version": 3
   },
   "file_extension": ".py",
   "mimetype": "text/x-python",
   "name": "python",
   "nbconvert_exporter": "python",
   "pygments_lexer": "ipython3",
   "version": "3.9.7"
  }
 },
 "nbformat": 4,
 "nbformat_minor": 5
}
